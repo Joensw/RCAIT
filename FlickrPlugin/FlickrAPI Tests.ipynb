{
 "cells": [
  {
   "cell_type": "code",
   "execution_count": null,
   "metadata": {},
   "outputs": [],
   "source": [
    "pip install flickrapi"
   ]
  },
  {
   "cell_type": "code",
   "execution_count": 2,
   "metadata": {},
   "outputs": [],
   "source": [
    "import flickrapi\n",
    "\n",
    "#Schlüssel angeforder auf https://www.flickr.com/services/api/\n",
    "#Dazu Antrag stellen, Schlüssel werden direkt angezeigt\n",
    "api_key = u'3391c68aa039902833f0c7bb1e0755ae'\n",
    "api_secret = u'6acffd9f01ca35c8'"
   ]
  },
  {
   "cell_type": "code",
   "execution_count": null,
   "metadata": {},
   "outputs": [],
   "source": []
  },
  {
   "cell_type": "code",
   "execution_count": 3,
   "metadata": {},
   "outputs": [],
   "source": [
    "#Dokumentation im Code @ https://github.com/sybrenstuvel/flickrapi/blob/master/flickrapi/core.py\n",
    "#und auf https://stuvel.eu/flickrapi-doc/2-calling.html\n",
    "#Bei format kann ausgewählt werden wie man die Anfragen erhalten möchte\n",
    "flickr = flickrapi.FlickrAPI(api_key, api_secret, format='parsed-json')"
   ]
  },
  {
   "cell_type": "code",
   "execution_count": 4,
   "metadata": {},
   "outputs": [],
   "source": [
    "#flickr api calls können einfach so ausgeführt werden. Ein Callbuilder der Python Bibliothek macht daraus eine Anfrage\n",
    "#response sieht so aus: https://www.flickr.com/services/api/flickr.photos.search.html\n",
    "#wir erhalten Diktionär mit einer Seite Results mit 100 Einträgen (standard Einstellung, im request konfigurierbar)\n",
    "label = 'plane'\n",
    "response = flickr.photos.search(text=label)"
   ]
  },
  {
   "cell_type": "code",
   "execution_count": null,
   "metadata": {},
   "outputs": [],
   "source": [
    "#print(dings)"
   ]
  },
  {
   "cell_type": "code",
   "execution_count": 5,
   "metadata": {},
   "outputs": [
    {
     "name": "stdout",
     "output_type": "stream",
     "text": [
      "dict_keys(['page', 'pages', 'perpage', 'total', 'photo'])\n"
     ]
    }
   ],
   "source": [
    "print(response['photos'].keys())\n"
   ]
  },
  {
   "cell_type": "code",
   "execution_count": 6,
   "metadata": {},
   "outputs": [
    {
     "name": "stdout",
     "output_type": "stream",
     "text": [
      "[{'id': '51294416325', 'owner': '193386834@N08', 'secret': '5e54a249c9', 'server': '65535', 'farm': 66, 'title': 'Russia Airplane Missing: Russian plane with 29 people on board goes missing', 'ispublic': 1, 'isfriend': 0, 'isfamily': 0}, {'id': '51292620102', 'owner': '183586209@N06', 'secret': 'c80c33ba26', 'server': '65535', 'farm': 66, 'title': 'Capture C5A Alconbury Airshow 90s', 'ispublic': 1, 'isfriend': 0, 'isfamily': 0}, {'id': '51293363066', 'owner': '187194180@N06', 'secret': '79aa98634b', 'server': '65535', 'farm': 66, 'title': 'EMBRAER 145EP', 'ispublic': 1, 'isfriend': 0, 'isfamily': 0}, {'id': '51294066124', 'owner': '58632705@N08', 'secret': '80d41a89fc', 'server': '65535', 'farm': 66, 'title': 'Ryanair Boeing 737-8AS(WL) EI-DCL Dreamliner livery of Boeing', 'ispublic': 1, 'isfriend': 0, 'isfamily': 0}, {'id': '51293346721', 'owner': '187194180@N06', 'secret': 'ba6d8aa92e', 'server': '65535', 'farm': 66, 'title': 'EMBRAER 145EP', 'ispublic': 1, 'isfriend': 0, 'isfamily': 0}, {'id': '51294054509', 'owner': '7240226@N02', 'secret': '44e189df85', 'server': '65535', 'farm': 66, 'title': 'Plane ..', 'ispublic': 1, 'isfriend': 0, 'isfamily': 0}, {'id': '51294335395', 'owner': '192700226@N02', 'secret': '1b629c83a4', 'server': '65535', 'farm': 66, 'title': 'CS-CHG Netjets Europe', 'ispublic': 1, 'isfriend': 0, 'isfamily': 0}, {'id': '51294032324', 'owner': '187194180@N06', 'secret': '0e63a64c25', 'server': '65535', 'farm': 66, 'title': 'BOEING 737-800', 'ispublic': 1, 'isfriend': 0, 'isfamily': 0}, {'id': '51293482563', 'owner': '192700226@N02', 'secret': '8b7da52639', 'server': '65535', 'farm': 66, 'title': 'N760NA North American Boeing 767-39H(ER)', 'ispublic': 1, 'isfriend': 0, 'isfamily': 0}, {'id': '51294292240', 'owner': '127349327@N05', 'secret': '1b3182cddd', 'server': '65535', 'farm': 66, 'title': 'Tin Horse Highway Display, Kulin-Lake Grace Road, Kulin, Western Australia', 'ispublic': 1, 'isfriend': 0, 'isfamily': 0}, {'id': '51294277320', 'owner': '79691705@N05', 'secret': '570189bf67', 'server': '65535', 'farm': 66, 'title': 'China Northwest Airlines | Airbus A300-600R | B-2330 | Hong Kong Kai Tak', 'ispublic': 1, 'isfriend': 0, 'isfamily': 0}, {'id': '51293982299', 'owner': '23464792@N04', 'secret': '6e5d1cd1e6', 'server': '65535', 'farm': 66, 'title': 'N00404DX ~ 2021-07-06 ~ oh CVT (01)', 'ispublic': 1, 'isfriend': 0, 'isfamily': 0}, {'id': '51293265411', 'owner': '23464792@N04', 'secret': '10bbd81821', 'server': '65535', 'farm': 66, 'title': 'N00404DX ~ 2021-07-06 ~ oh CVT (06)', 'ispublic': 1, 'isfriend': 0, 'isfamily': 0}, {'id': '51292519612', 'owner': '23464792@N04', 'secret': 'a62a07d15f', 'server': '65535', 'farm': 66, 'title': 'N00404DX ~ 2021-07-06 ~ oh CVT (11)', 'ispublic': 1, 'isfriend': 0, 'isfamily': 0}, {'id': '51292519527', 'owner': '23464792@N04', 'secret': '02d81b30f6', 'server': '65535', 'farm': 66, 'title': 'N00404DX ~ 2021-07-06 ~ oh CVT (15)', 'ispublic': 1, 'isfriend': 0, 'isfamily': 0}, {'id': '51293236161', 'owner': '124756784@N07', 'secret': 'b6f021bbee', 'server': '65535', 'farm': 66, 'title': 'British Airways A320-232 G-EUUX taxiing at LHR/EGLL', 'ispublic': 1, 'isfriend': 0, 'isfamily': 0}, {'id': '51292490757', 'owner': '124756784@N07', 'secret': 'da49a5a1f5', 'server': '65535', 'farm': 66, 'title': 'British Airways A320-232 G-EUUX taxiing at LHR/EGLL', 'ispublic': 1, 'isfriend': 0, 'isfamily': 0}, {'id': '51293413908', 'owner': '124756784@N07', 'secret': 'c662a79572', 'server': '65535', 'farm': 66, 'title': 'British Airways B787-9 G-ZBKS at LHR/EGLL', 'ispublic': 1, 'isfriend': 0, 'isfamily': 0}, {'id': '51293413883', 'owner': '124756784@N07', 'secret': '579c29879e', 'server': '65535', 'farm': 66, 'title': 'British Airways B787-9 G-ZBKS at LHR/EGLL', 'ispublic': 1, 'isfriend': 0, 'isfamily': 0}, {'id': '51292860573', 'owner': '157723593@N08', 'secret': '7eec685847', 'server': '65535', 'farm': 66, 'title': 'RAF Hawker Hurricane MkIIc BBMF PZ865 ZY-V', 'ispublic': 1, 'isfriend': 0, 'isfamily': 0}, {'id': '51293950009', 'owner': '75908149@N05', 'secret': '1c1b731728', 'server': '65535', 'farm': 66, 'title': 'G-JMCT Boeing B737-3Y0(SF) EGPH 17-07-20', 'ispublic': 1, 'isfriend': 0, 'isfamily': 0}, {'id': '51293233481', 'owner': '75908149@N05', 'secret': 'c4ecf10e90', 'server': '65535', 'farm': 66, 'title': 'G-NEOX Airbus A321-251NX EGPH 13-02-21', 'ispublic': 1, 'isfriend': 0, 'isfamily': 0}, {'id': '51292488127', 'owner': '75908149@N05', 'secret': 'ce3d35bcd7', 'server': '65535', 'farm': 66, 'title': 'ZM406 Airbus A400M Atlas C.1 EGPH 03-09-20', 'ispublic': 1, 'isfriend': 0, 'isfamily': 0}, {'id': '51293397673', 'owner': '158464303@N02', 'secret': 'ae08cc70a4', 'server': '65535', 'farm': 66, 'title': '526 (115-YP), AMD Mirage 2000B Armee de l´Air @ Orange LFMO', 'ispublic': 1, 'isfriend': 0, 'isfamily': 0}, {'id': '51294224095', 'owner': '158464303@N02', 'secret': '124a79b55f', 'server': '65535', 'farm': 66, 'title': '337 (116-BF), AMD Mirage 2000N Armee de l´Air @ Luyeuil-les-Bains LFSX', 'ispublic': 1, 'isfriend': 0, 'isfamily': 0}, {'id': '51293397663', 'owner': '158464303@N02', 'secret': 'debf5d78e1', 'server': '65535', 'farm': 66, 'title': '635 (133-AS), AMD Mirage 2000D Armee de l´Air @ Nancy-Ochey LFSO', 'ispublic': 1, 'isfriend': 0, 'isfamily': 0}, {'id': '51293379004', 'owner': '157723593@N08', 'secret': '996d4352b2', 'server': '65535', 'farm': 66, 'title': \"Curtiss P-40F Kittyhawk 41-19841 USAAC G-CGZP Lee's Hope & Grumman Wildcat FM2 G-RUMW Fleet Air Arm JV579 Royal Navy The Old Thing\", 'ispublic': 1, 'isfriend': 0, 'isfamily': 0}, {'id': '51293354819', 'owner': '157723593@N08', 'secret': '26e9f5ce44', 'server': '65535', 'farm': 66, 'title': '', 'ispublic': 1, 'isfriend': 0, 'isfamily': 0}, {'id': '51293388308', 'owner': '72649331@N00', 'secret': '49ea5b73e8', 'server': '0', 'farm': 0, 'title': 'IMG_6074', 'ispublic': 1, 'isfriend': 0, 'isfamily': 0}, {'id': '51294197735', 'owner': '72649331@N00', 'secret': '736bb53e87', 'server': '0', 'farm': 0, 'title': 'IMG_6095', 'ispublic': 1, 'isfriend': 0, 'isfamily': 0}, {'id': '51293383393', 'owner': '59703419@N04', 'secret': 'd80dc1c3ff', 'server': '65535', 'farm': 66, 'title': 'MIDEAST JET B777 N777AS', 'ispublic': 1, 'isfriend': 0, 'isfamily': 0}, {'id': '51292423562', 'owner': '27844439@N05', 'secret': '1a2002b5c9', 'server': '65535', 'farm': 66, 'title': 'C51O0331', 'ispublic': 1, 'isfriend': 0, 'isfamily': 0}, {'id': '51294172795', 'owner': '27844439@N05', 'secret': '43d8fd9fe4', 'server': '65535', 'farm': 66, 'title': 'C51O0329', 'ispublic': 1, 'isfriend': 0, 'isfamily': 0}, {'id': '51293325498', 'owner': '53316491@N08', 'secret': 'af286a7afb', 'server': '65535', 'farm': 66, 'title': 'Open house in the new Swissair hangar at Idlewild in 1959 #1', 'ispublic': 1, 'isfriend': 0, 'isfamily': 0}, {'id': '51293862799', 'owner': '27844439@N05', 'secret': 'e159529be8', 'server': '65535', 'farm': 66, 'title': 'A-44 C51O0319', 'ispublic': 1, 'isfriend': 0, 'isfamily': 0}, {'id': '51292400682', 'owner': '27844439@N05', 'secret': '77cec538ed', 'server': '65535', 'farm': 66, 'title': 'G-RETA C51O0316', 'ispublic': 1, 'isfriend': 0, 'isfamily': 0}, {'id': '51293315533', 'owner': '91261194@N06', 'secret': '4500b4785b', 'server': '65535', 'farm': 66, 'title': 'United Kingdom travel concept. Hand holding a miniature plane on national flag of United Kingdom', 'ispublic': 1, 'isfriend': 0, 'isfamily': 0}, {'id': '51293131431', 'owner': '77657331@N02', 'secret': 'fc57f48750', 'server': '65535', 'farm': 66, 'title': 'United Parcel Service (UPS) | N258UP', 'ispublic': 1, 'isfriend': 0, 'isfamily': 0}, {'id': '51294103865', 'owner': '40953925@N08', 'secret': 'bae39048b1', 'server': '65535', 'farm': 66, 'title': 'Republic of Singapore Air Force', 'ispublic': 1, 'isfriend': 0, 'isfamily': 0}, {'id': '51293080216', 'owner': '91032781@N04', 'secret': '46059439ac', 'server': '65535', 'farm': 66, 'title': '09 24 11_2220', 'ispublic': 1, 'isfriend': 0, 'isfamily': 0}, {'id': '51293797174', 'owner': '91032781@N04', 'secret': '1fe161d717', 'server': '65535', 'farm': 66, 'title': '09 24 11_2221', 'ispublic': 1, 'isfriend': 0, 'isfamily': 0}, {'id': '51293796984', 'owner': '91032781@N04', 'secret': '42fa78089b', 'server': '65535', 'farm': 66, 'title': '09 24 11_2223', 'ispublic': 1, 'isfriend': 0, 'isfamily': 0}, {'id': '51293796879', 'owner': '91032781@N04', 'secret': '80e57e93c7', 'server': '65535', 'farm': 66, 'title': '09 24 11_2224', 'ispublic': 1, 'isfriend': 0, 'isfamily': 0}, {'id': '51293796729', 'owner': '91032781@N04', 'secret': 'a98e73990f', 'server': '65535', 'farm': 66, 'title': '09 24 11_2226', 'ispublic': 1, 'isfriend': 0, 'isfamily': 0}, {'id': '51293257453', 'owner': '91032781@N04', 'secret': '8d6856606b', 'server': '65535', 'farm': 66, 'title': '09 24 11_2228', 'ispublic': 1, 'isfriend': 0, 'isfamily': 0}, {'id': '51293796464', 'owner': '91032781@N04', 'secret': '2abac00b9f', 'server': '65535', 'farm': 66, 'title': '09 24 11_2229', 'ispublic': 1, 'isfriend': 0, 'isfamily': 0}, {'id': '51293257083', 'owner': '91032781@N04', 'secret': '3443a7771d', 'server': '65535', 'farm': 66, 'title': '09 24 11_2231', 'ispublic': 1, 'isfriend': 0, 'isfamily': 0}, {'id': '51293078936', 'owner': '91032781@N04', 'secret': '3c83cffa0d', 'server': '65535', 'farm': 66, 'title': '09 24 11_2234', 'ispublic': 1, 'isfriend': 0, 'isfamily': 0}, {'id': '51292333782', 'owner': '91032781@N04', 'secret': '0368602332', 'server': '65535', 'farm': 66, 'title': '09 24 11_2235', 'ispublic': 1, 'isfriend': 0, 'isfamily': 0}, {'id': '51293078716', 'owner': '91032781@N04', 'secret': 'cd830c72d4', 'server': '65535', 'farm': 66, 'title': '09 24 11_2237', 'ispublic': 1, 'isfriend': 0, 'isfamily': 0}, {'id': '51294084185', 'owner': '91032781@N04', 'secret': '94156db517', 'server': '65535', 'farm': 66, 'title': '09 24 11_2239', 'ispublic': 1, 'isfriend': 0, 'isfamily': 0}, {'id': '51293784929', 'owner': '110112536@N05', 'secret': 'cc3e32df77', 'server': '65535', 'farm': 66, 'title': 'A Warrior of the Sky', 'ispublic': 1, 'isfriend': 0, 'isfamily': 0}, {'id': '51292315267', 'owner': '41745998@N03', 'secret': '4bca3e3ae1', 'server': '65535', 'farm': 66, 'title': 'Heading West to... Where?', 'ispublic': 1, 'isfriend': 0, 'isfamily': 0}, {'id': '51293777714', 'owner': '41745998@N03', 'secret': 'a26027d56e', 'server': '65535', 'farm': 66, 'title': 'Now We Are Under their Flight Path', 'ispublic': 1, 'isfriend': 0, 'isfamily': 0}, {'id': '51292135822', 'owner': '62908736@N08', 'secret': 'b53ca94a4d', 'server': '65535', 'farm': 66, 'title': 'British Airways, Boeing 747-400s, Awaiting Scraping At Air Salvage International, Kemble/Cotswold Airport', 'ispublic': 1, 'isfriend': 0, 'isfamily': 0}, {'id': '51293054413', 'owner': '168888063@N04', 'secret': 'bc8cc51f4c', 'server': '65535', 'farm': 66, 'title': 'Chicago Skyline in Sight', 'ispublic': 1, 'isfriend': 0, 'isfamily': 0}, {'id': '51293025513', 'owner': '14175138@N08', 'secret': 'abd042467f', 'server': '65535', 'farm': 66, 'title': 'US Navy | Boeing F/A-18F Super Hornet | Memphis International Airport', 'ispublic': 1, 'isfriend': 0, 'isfamily': 0}, {'id': '51292101052', 'owner': '14175138@N08', 'secret': '11885830b3', 'server': '65535', 'farm': 66, 'title': 'US Navy | Boeing F/A-18F Super Hornet | Memphis International Airport', 'ispublic': 1, 'isfriend': 0, 'isfamily': 0}, {'id': '51293025453', 'owner': '14175138@N08', 'secret': '3f6d5ee328', 'server': '65535', 'farm': 66, 'title': 'US Navy | Boeing F/A-18F Super Hornet | Memphis International Airport', 'ispublic': 1, 'isfriend': 0, 'isfamily': 0}, {'id': '51292801696', 'owner': '14723335@N05', 'secret': '04a428ff67', 'server': '65535', 'farm': 66, 'title': 'Milky Way Stretching Across the Night Skies at Petrified Forest National Park', 'ispublic': 1, 'isfriend': 0, 'isfamily': 0}, {'id': '51292975853', 'owner': '38974417@N00', 'secret': '1a128afe0c', 'server': '65535', 'farm': 66, 'title': '73-1676', 'ispublic': 1, 'isfriend': 0, 'isfamily': 0}, {'id': '51292027507', 'owner': '125569843@N07', 'secret': 'e1e2b73617', 'server': '65535', 'farm': 66, 'title': 'N711ZX Boeing 757-200 Delta Airlines Los Angeles Airport KLAX 23.01-17', 'ispublic': 1, 'isfriend': 0, 'isfamily': 0}, {'id': '51292927123', 'owner': '190084660@N08', 'secret': '683d8c3fca', 'server': '65535', 'farm': 66, 'title': 'Project4_Shot9.Personal_Howard', 'ispublic': 1, 'isfriend': 0, 'isfamily': 0}, {'id': '51293737030', 'owner': '188880696@N05', 'secret': '9c7e73f9b1', 'server': '65535', 'farm': 66, 'title': 'EC-NFA BINTER CANARIAS EMBRAER 190-400STD MSN 19020024', 'ispublic': 1, 'isfriend': 0, 'isfamily': 0}, {'id': '51293433039', 'owner': '188880696@N05', 'secret': 'f32ecc4f6d', 'server': '65535', 'farm': 66, 'title': 'F-WWTV // B-324D JUNEYAO AIRLINES AIRBUS A320-271N MSN 10498', 'ispublic': 1, 'isfriend': 0, 'isfamily': 0}, {'id': '51293704960', 'owner': '188880696@N05', 'secret': 'e313cd5f74', 'server': '65535', 'farm': 66, 'title': 'F-HDPN PRIVATE CESSNA 510 CITATION MUSTANG MSN 0163', 'ispublic': 1, 'isfriend': 0, 'isfamily': 0}, {'id': '51293405219', 'owner': '188880696@N05', 'secret': '4740b87fac', 'server': '65535', 'farm': 66, 'title': 'F-WWBY // XA-VRV VOLARIS AIRBUS A320-271N MSN 10454', 'ispublic': 1, 'isfriend': 0, 'isfamily': 0}, {'id': '51292849638', 'owner': '188880696@N05', 'secret': 'e44f65b1c0', 'server': '65535', 'farm': 66, 'title': 'RA-82074 VOLGA-DNEPR AIRLINES ANTONOV AN-124-100 MSN 9773051459142', 'ispublic': 1, 'isfriend': 0, 'isfamily': 0}, {'id': '51292652161', 'owner': '38998307@N05', 'secret': '3b769d3b60', 'server': '65535', 'farm': 66, 'title': 'N109DU | Airbus A220-100 | Delta Air Lines', 'ispublic': 1, 'isfriend': 0, 'isfamily': 0}, {'id': '51292830968', 'owner': '38998307@N05', 'secret': '56bbfa2bcf', 'server': '65535', 'farm': 66, 'title': 'N581AS | Boeing 737-890/W | Alaska Airlines', 'ispublic': 1, 'isfriend': 0, 'isfamily': 0}, {'id': '51292830938', 'owner': '38998307@N05', 'secret': '01a1e761f9', 'server': '65535', 'farm': 66, 'title': 'A6-BLW | Boeing 787-9 Dreamliner | Etihad Airways', 'ispublic': 1, 'isfriend': 0, 'isfamily': 0}, {'id': '51291913177', 'owner': '188880696@N05', 'secret': '0d2b7d62e5', 'server': '65535', 'farm': 66, 'title': 'F-WWDO // B-30F5 CHINA EXPRESS AIRLINES AIRBUS A320-271N MSN 10044', 'ispublic': 1, 'isfriend': 0, 'isfamily': 0}, {'id': '51293360174', 'owner': '188880696@N05', 'secret': 'ea135d84d5', 'server': '65535', 'farm': 66, 'title': 'F-HOND PRIVATE HONDA HA-420 HONDAJET MSN 42000097', 'ispublic': 1, 'isfriend': 0, 'isfamily': 0}, {'id': '51292810303', 'owner': '188880696@N05', 'secret': 'da99f4dd37', 'server': '65535', 'farm': 66, 'title': 'F-WWBU // HK-5319 VIVA AIR COLOMBIA AIRBUS A320-214 MSN 8994', 'ispublic': 1, 'isfriend': 0, 'isfamily': 0}, {'id': '51293626325', 'owner': '188880696@N05', 'secret': '519fba36cd', 'server': '65535', 'farm': 66, 'title': 'F-WWYN // - NATO AIRBUS A330-243MRTT MSN 1989', 'ispublic': 1, 'isfriend': 0, 'isfamily': 0}, {'id': '51292604421', 'owner': '48233656@N00', 'secret': '4529fee6c6', 'server': '65535', 'farm': 66, 'title': 'C-GRST', 'ispublic': 1, 'isfriend': 0, 'isfamily': 0}, {'id': '51293611850', 'owner': '48233656@N00', 'secret': '89bf4a90c3', 'server': '65535', 'farm': 66, 'title': 'N4KT', 'ispublic': 1, 'isfriend': 0, 'isfamily': 0}, {'id': '51293611070', 'owner': '48233656@N00', 'secret': 'ec5f34277f', 'server': '65535', 'farm': 66, 'title': 'N58LA  Smoke', 'ispublic': 1, 'isfriend': 0, 'isfamily': 0}, {'id': '51292782713', 'owner': '48233656@N00', 'secret': '86778894bf', 'server': '65535', 'farm': 66, 'title': 'N58LA', 'ispublic': 1, 'isfriend': 0, 'isfamily': 0}, {'id': '51292781788', 'owner': '48233656@N00', 'secret': '20722f95c7', 'server': '65535', 'farm': 66, 'title': 'N58LA Gear Fire', 'ispublic': 1, 'isfriend': 0, 'isfamily': 0}, {'id': '51293319279', 'owner': '48233656@N00', 'secret': '6ec16d5c63', 'server': '65535', 'farm': 66, 'title': 'N58LA', 'ispublic': 1, 'isfriend': 0, 'isfamily': 0}, {'id': '51293608850', 'owner': '48233656@N00', 'secret': 'ce4458dbc7', 'server': '65535', 'farm': 66, 'title': 'N76GV', 'ispublic': 1, 'isfriend': 0, 'isfamily': 0}, {'id': '51292780538', 'owner': '48233656@N00', 'secret': 'fce78086c2', 'server': '65535', 'farm': 66, 'title': 'N104JP', 'ispublic': 1, 'isfriend': 0, 'isfamily': 0}, {'id': '51291856287', 'owner': '48233656@N00', 'secret': 'ce359a945f', 'server': '65535', 'farm': 66, 'title': 'N105RF', 'ispublic': 1, 'isfriend': 0, 'isfamily': 0}, {'id': '51292779438', 'owner': '48233656@N00', 'secret': '7b7dc1c75a', 'server': '65535', 'farm': 66, 'title': 'N111AM', 'ispublic': 1, 'isfriend': 0, 'isfamily': 0}, {'id': '51292598966', 'owner': '48233656@N00', 'secret': '27ccc9aff0', 'server': '65535', 'farm': 66, 'title': 'N374FR', 'ispublic': 1, 'isfriend': 0, 'isfamily': 0}, {'id': '51292598846', 'owner': '48233656@N00', 'secret': '665e00c1d9', 'server': '65535', 'farm': 66, 'title': 'N431QS', 'ispublic': 1, 'isfriend': 0, 'isfamily': 0}, {'id': '51291854727', 'owner': '48233656@N00', 'secret': 'c8a65fd36f', 'server': '65535', 'farm': 66, 'title': 'N473DS', 'ispublic': 1, 'isfriend': 0, 'isfamily': 0}, {'id': '51293315234', 'owner': '48233656@N00', 'secret': '0d8a38f5d6', 'server': '65535', 'farm': 66, 'title': 'N503BC', 'ispublic': 1, 'isfriend': 0, 'isfamily': 0}, {'id': '51291853607', 'owner': '48233656@N00', 'secret': '7a6913c0ce', 'server': '65535', 'farm': 66, 'title': 'N582FX', 'ispublic': 1, 'isfriend': 0, 'isfamily': 0}, {'id': '51291853037', 'owner': '48233656@N00', 'secret': 'db3c5b5557', 'server': '65535', 'farm': 66, 'title': 'N610TX', 'ispublic': 1, 'isfriend': 0, 'isfamily': 0}, {'id': '51291852587', 'owner': '48233656@N00', 'secret': '24a6aa9732', 'server': '65535', 'farm': 66, 'title': 'N745TT', 'ispublic': 1, 'isfriend': 0, 'isfamily': 0}, {'id': '51292595791', 'owner': '48233656@N00', 'secret': '1f89d40220', 'server': '65535', 'farm': 66, 'title': 'N28390', 'ispublic': 1, 'isfriend': 0, 'isfamily': 0}, {'id': '51292612591', 'owner': '132614944@N02', 'secret': 'c3b665a790', 'server': '65535', 'farm': 66, 'title': 'HL-7419 Anchorage JUN/2002', 'ispublic': 1, 'isfriend': 0, 'isfamily': 0}, {'id': '51292612366', 'owner': '132614944@N02', 'secret': 'c1a3dfba3d', 'server': '65535', 'farm': 66, 'title': 'HL-7419 Anchorage JUN/2002', 'ispublic': 1, 'isfriend': 0, 'isfamily': 0}, {'id': '51293329859', 'owner': '132614944@N02', 'secret': '12b823546d', 'server': '65535', 'farm': 66, 'title': 'HL-7419 Anchorage JUN/2002', 'ispublic': 1, 'isfriend': 0, 'isfamily': 0}, {'id': '51293619320', 'owner': '132614944@N02', 'secret': 'a0f9b36df2', 'server': '65535', 'farm': 66, 'title': 'HL-7419 Anchorage JUN/2002', 'ispublic': 1, 'isfriend': 0, 'isfamily': 0}, {'id': '51293586419', 'owner': '193398847@N04', 'secret': '9030f2eb32', 'server': '65535', 'farm': 66, 'title': 'From the plane - 1', 'ispublic': 1, 'isfriend': 0, 'isfamily': 0}, {'id': '51292770388', 'owner': '148257191@N08', 'secret': '13d8d53b9b', 'server': '65535', 'farm': 66, 'title': 'TBM 900', 'ispublic': 1, 'isfriend': 0, 'isfamily': 0}, {'id': '51292589576', 'owner': '148257191@N08', 'secret': '78f770ac21', 'server': '65535', 'farm': 66, 'title': 'TBM 900', 'ispublic': 1, 'isfriend': 0, 'isfamily': 0}]\n"
     ]
    }
   ],
   "source": [
    "print(response['photos']['photo'])"
   ]
  },
  {
   "cell_type": "code",
   "execution_count": null,
   "metadata": {},
   "outputs": [],
   "source": [
    "#Kurz schöner drucken\n",
    "for foto in response['photos']['photo']:\n",
    "    res=\"\"\n",
    "    for x in foto.keys():\n",
    "        res += x + \" = \" + f'{ding[x]}' + \", \"\n",
    "    print(res)\n",
    "    "
   ]
  },
  {
   "cell_type": "code",
   "execution_count": 7,
   "metadata": {},
   "outputs": [
    {
     "name": "stdout",
     "output_type": "stream",
     "text": [
      "['https://live.staticflickr.com/65535/51294416325_5e54a249c9.jpg', 'https://live.staticflickr.com/65535/51292620102_c80c33ba26.jpg', 'https://live.staticflickr.com/65535/51293363066_79aa98634b.jpg', 'https://live.staticflickr.com/65535/51294066124_80d41a89fc.jpg', 'https://live.staticflickr.com/65535/51293346721_ba6d8aa92e.jpg', 'https://live.staticflickr.com/65535/51294054509_44e189df85.jpg', 'https://live.staticflickr.com/65535/51294335395_1b629c83a4.jpg', 'https://live.staticflickr.com/65535/51294032324_0e63a64c25.jpg', 'https://live.staticflickr.com/65535/51293482563_8b7da52639.jpg', 'https://live.staticflickr.com/65535/51294292240_1b3182cddd.jpg', 'https://live.staticflickr.com/65535/51294277320_570189bf67.jpg', 'https://live.staticflickr.com/65535/51293982299_6e5d1cd1e6.jpg', 'https://live.staticflickr.com/65535/51293265411_10bbd81821.jpg', 'https://live.staticflickr.com/65535/51292519612_a62a07d15f.jpg', 'https://live.staticflickr.com/65535/51292519527_02d81b30f6.jpg', 'https://live.staticflickr.com/65535/51293236161_b6f021bbee.jpg', 'https://live.staticflickr.com/65535/51292490757_da49a5a1f5.jpg', 'https://live.staticflickr.com/65535/51293413908_c662a79572.jpg', 'https://live.staticflickr.com/65535/51293413883_579c29879e.jpg', 'https://live.staticflickr.com/65535/51292860573_7eec685847.jpg', 'https://live.staticflickr.com/65535/51293950009_1c1b731728.jpg', 'https://live.staticflickr.com/65535/51293233481_c4ecf10e90.jpg', 'https://live.staticflickr.com/65535/51292488127_ce3d35bcd7.jpg', 'https://live.staticflickr.com/65535/51293397673_ae08cc70a4.jpg', 'https://live.staticflickr.com/65535/51294224095_124a79b55f.jpg', 'https://live.staticflickr.com/65535/51293397663_debf5d78e1.jpg', 'https://live.staticflickr.com/65535/51293379004_996d4352b2.jpg', 'https://live.staticflickr.com/65535/51293354819_26e9f5ce44.jpg', 'https://live.staticflickr.com/0/51293388308_49ea5b73e8.jpg', 'https://live.staticflickr.com/0/51294197735_736bb53e87.jpg', 'https://live.staticflickr.com/65535/51293383393_d80dc1c3ff.jpg', 'https://live.staticflickr.com/65535/51292423562_1a2002b5c9.jpg', 'https://live.staticflickr.com/65535/51294172795_43d8fd9fe4.jpg', 'https://live.staticflickr.com/65535/51293325498_af286a7afb.jpg', 'https://live.staticflickr.com/65535/51293862799_e159529be8.jpg', 'https://live.staticflickr.com/65535/51292400682_77cec538ed.jpg', 'https://live.staticflickr.com/65535/51293315533_4500b4785b.jpg', 'https://live.staticflickr.com/65535/51293131431_fc57f48750.jpg', 'https://live.staticflickr.com/65535/51294103865_bae39048b1.jpg', 'https://live.staticflickr.com/65535/51293080216_46059439ac.jpg', 'https://live.staticflickr.com/65535/51293797174_1fe161d717.jpg', 'https://live.staticflickr.com/65535/51293796984_42fa78089b.jpg', 'https://live.staticflickr.com/65535/51293796879_80e57e93c7.jpg', 'https://live.staticflickr.com/65535/51293796729_a98e73990f.jpg', 'https://live.staticflickr.com/65535/51293257453_8d6856606b.jpg', 'https://live.staticflickr.com/65535/51293796464_2abac00b9f.jpg', 'https://live.staticflickr.com/65535/51293257083_3443a7771d.jpg', 'https://live.staticflickr.com/65535/51293078936_3c83cffa0d.jpg', 'https://live.staticflickr.com/65535/51292333782_0368602332.jpg', 'https://live.staticflickr.com/65535/51293078716_cd830c72d4.jpg', 'https://live.staticflickr.com/65535/51294084185_94156db517.jpg', 'https://live.staticflickr.com/65535/51293784929_cc3e32df77.jpg', 'https://live.staticflickr.com/65535/51292315267_4bca3e3ae1.jpg', 'https://live.staticflickr.com/65535/51293777714_a26027d56e.jpg', 'https://live.staticflickr.com/65535/51292135822_b53ca94a4d.jpg', 'https://live.staticflickr.com/65535/51293054413_bc8cc51f4c.jpg', 'https://live.staticflickr.com/65535/51293025513_abd042467f.jpg', 'https://live.staticflickr.com/65535/51292101052_11885830b3.jpg', 'https://live.staticflickr.com/65535/51293025453_3f6d5ee328.jpg', 'https://live.staticflickr.com/65535/51292801696_04a428ff67.jpg', 'https://live.staticflickr.com/65535/51292975853_1a128afe0c.jpg', 'https://live.staticflickr.com/65535/51292027507_e1e2b73617.jpg', 'https://live.staticflickr.com/65535/51292927123_683d8c3fca.jpg', 'https://live.staticflickr.com/65535/51293737030_9c7e73f9b1.jpg', 'https://live.staticflickr.com/65535/51293433039_f32ecc4f6d.jpg', 'https://live.staticflickr.com/65535/51293704960_e313cd5f74.jpg', 'https://live.staticflickr.com/65535/51293405219_4740b87fac.jpg', 'https://live.staticflickr.com/65535/51292849638_e44f65b1c0.jpg', 'https://live.staticflickr.com/65535/51292652161_3b769d3b60.jpg', 'https://live.staticflickr.com/65535/51292830968_56bbfa2bcf.jpg', 'https://live.staticflickr.com/65535/51292830938_01a1e761f9.jpg', 'https://live.staticflickr.com/65535/51291913177_0d2b7d62e5.jpg', 'https://live.staticflickr.com/65535/51293360174_ea135d84d5.jpg', 'https://live.staticflickr.com/65535/51292810303_da99f4dd37.jpg', 'https://live.staticflickr.com/65535/51293626325_519fba36cd.jpg', 'https://live.staticflickr.com/65535/51292604421_4529fee6c6.jpg', 'https://live.staticflickr.com/65535/51293611850_89bf4a90c3.jpg', 'https://live.staticflickr.com/65535/51293611070_ec5f34277f.jpg', 'https://live.staticflickr.com/65535/51292782713_86778894bf.jpg', 'https://live.staticflickr.com/65535/51292781788_20722f95c7.jpg', 'https://live.staticflickr.com/65535/51293319279_6ec16d5c63.jpg', 'https://live.staticflickr.com/65535/51293608850_ce4458dbc7.jpg', 'https://live.staticflickr.com/65535/51292780538_fce78086c2.jpg', 'https://live.staticflickr.com/65535/51291856287_ce359a945f.jpg', 'https://live.staticflickr.com/65535/51292779438_7b7dc1c75a.jpg', 'https://live.staticflickr.com/65535/51292598966_27ccc9aff0.jpg', 'https://live.staticflickr.com/65535/51292598846_665e00c1d9.jpg', 'https://live.staticflickr.com/65535/51291854727_c8a65fd36f.jpg', 'https://live.staticflickr.com/65535/51293315234_0d8a38f5d6.jpg', 'https://live.staticflickr.com/65535/51291853607_7a6913c0ce.jpg', 'https://live.staticflickr.com/65535/51291853037_db3c5b5557.jpg', 'https://live.staticflickr.com/65535/51291852587_24a6aa9732.jpg', 'https://live.staticflickr.com/65535/51292595791_1f89d40220.jpg', 'https://live.staticflickr.com/65535/51292612591_c3b665a790.jpg', 'https://live.staticflickr.com/65535/51292612366_c1a3dfba3d.jpg', 'https://live.staticflickr.com/65535/51293329859_12b823546d.jpg', 'https://live.staticflickr.com/65535/51293619320_a0f9b36df2.jpg', 'https://live.staticflickr.com/65535/51293586419_9030f2eb32.jpg', 'https://live.staticflickr.com/65535/51292770388_13d8d53b9b.jpg', 'https://live.staticflickr.com/65535/51292589576_78f770ac21.jpg']\n"
     ]
    }
   ],
   "source": [
    "#construct URL https://www.flickr.com/services/api/misc.urls.html\n",
    "#\n",
    "# Format der eindeutigen URL für eine Größe von 500 Pixeln\n",
    "#\n",
    "#https://live.staticflickr.com/{server-id}/{id}_{secret}.jpg\n",
    "\n",
    "url_start = 'https://live.staticflickr.com/'\n",
    "file_extension = '.jpg'\n",
    "\n",
    "urls = []\n",
    "for foto in response['photos']['photo']:\n",
    "    url = url_start\n",
    "    url += foto['server']\n",
    "    url += '/' \n",
    "    url += foto['id']\n",
    "    url += '_' \n",
    "    url += foto['secret']\n",
    "    url += file_extension\n",
    "    foto['url'] = url\n",
    "    urls.append(url)    \n",
    "print(urls)"
   ]
  },
  {
   "cell_type": "code",
   "execution_count": 8,
   "metadata": {},
   "outputs": [],
   "source": [
    "#Importiere Module um Bilder herunterzuladen\n",
    "import shutil\n",
    "import requests\n",
    "import os\n",
    "from pathlib import Path"
   ]
  },
  {
   "cell_type": "code",
   "execution_count": 9,
   "metadata": {},
   "outputs": [],
   "source": [
    "#Mache Pfad für \n",
    "Path(label).mkdir(parents=True, exist_ok=True)\n",
    "\n",
    "for foto in response['photos']['photo']:\n",
    "    r = requests.get(foto['url'], stream=True)\n",
    "    with open(label + '/' +  foto['id'] + file_extension, 'wb') as out_file:\n",
    "        shutil.copyfileobj(r.raw, out_file)\n",
    "    del r    "
   ]
  },
  {
   "cell_type": "code",
   "execution_count": null,
   "metadata": {},
   "outputs": [],
   "source": []
  }
 ],
 "metadata": {
  "interpreter": {
   "hash": "ca585555a2867b459a38eaf8b2b47956aef7a6f770e52f1f5dfa1f8f05e57688"
  },
  "kernelspec": {
   "display_name": "Python 3.8.8 64-bit",
   "name": "python3"
  },
  "language_info": {
   "codemirror_mode": {
    "name": "ipython",
    "version": 3
   },
   "file_extension": ".py",
   "mimetype": "text/x-python",
   "name": "python",
   "nbconvert_exporter": "python",
   "pygments_lexer": "ipython3",
   "version": "3.8.8"
  },
  "orig_nbformat": 4
 },
 "nbformat": 4,
 "nbformat_minor": 2
}