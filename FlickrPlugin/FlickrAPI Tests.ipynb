{
 "metadata": {
  "language_info": {
   "codemirror_mode": {
    "name": "ipython",
    "version": 3
   },
   "file_extension": ".py",
   "mimetype": "text/x-python",
   "name": "python",
   "nbconvert_exporter": "python",
   "pygments_lexer": "ipython3",
   "version": "3.8.8"
  },
  "orig_nbformat": 4,
  "kernelspec": {
   "name": "python3",
   "display_name": "Python 3.8.8 64-bit"
  },
  "interpreter": {
   "hash": "ca585555a2867b459a38eaf8b2b47956aef7a6f770e52f1f5dfa1f8f05e57688"
  }
 },
 "nbformat": 4,
 "nbformat_minor": 2,
 "cells": [
  {
   "cell_type": "code",
   "execution_count": null,
   "metadata": {},
   "outputs": [],
   "source": [
    "pip install flickrapi"
   ]
  },
  {
   "cell_type": "code",
   "execution_count": 16,
   "metadata": {},
   "outputs": [],
   "source": [
    "import flickrapi\n",
    "\n",
    "#Schlüssel angeforder auf https://www.flickr.com/services/api/\n",
    "#Dazu Antrag stellen, Schlüssel werden direkt angezeigt\n",
    "api_key = u'3391c68aa039902833f0c7bb1e0755ae'\n",
    "api_secret = u'6acffd9f01ca35c8'"
   ]
  },
  {
   "cell_type": "code",
   "execution_count": null,
   "metadata": {},
   "outputs": [],
   "source": []
  },
  {
   "cell_type": "code",
   "execution_count": 17,
   "metadata": {},
   "outputs": [],
   "source": [
    "#Dokumentation im Code @ https://github.com/sybrenstuvel/flickrapi/blob/master/flickrapi/core.py\n",
    "#und auf https://stuvel.eu/flickrapi-doc/2-calling.html\n",
    "#Bei format kann ausgewählt werden wie man die Anfragen erhalten möchte\n",
    "flickr = flickrapi.FlickrAPI(api_key, api_secret, format='parsed-json')"
   ]
  },
  {
   "cell_type": "code",
   "execution_count": 36,
   "metadata": {},
   "outputs": [],
   "source": [
    "#flickr api calls können einfach so ausgeführt werden. Ein Callbuilder der Python Bibliothek macht daraus eine Anfrage\n",
    "#response sieht so aus: https://www.flickr.com/services/api/flickr.photos.search.html\n",
    "#wir erhalten Diktionär mit einer Seite Results mit 100 Einträgen (standard Einstellung, im request konfigurierbar)\n",
    "label = 'plane'\n",
    "response = flickr.photos.search(text=label)"
   ]
  },
  {
   "cell_type": "code",
   "execution_count": null,
   "metadata": {},
   "outputs": [],
   "source": [
    "#print(dings)"
   ]
  },
  {
   "cell_type": "code",
   "execution_count": null,
   "metadata": {},
   "outputs": [],
   "source": [
    "print(response['photos'].keys())\n"
   ]
  },
  {
   "cell_type": "code",
   "execution_count": null,
   "metadata": {},
   "outputs": [],
   "source": [
    "print(response['photos']['photo'])"
   ]
  },
  {
   "cell_type": "code",
   "execution_count": 19,
   "metadata": {},
   "outputs": [
    {
     "output_type": "stream",
     "name": "stdout",
     "text": [
      "id = 51289772120, owner = 181770826@N04, secret = 259a9155dc, server = 65535, farm = 66, title = 2021-07-03_SAC_FloatFly_046, ispublic = 1, isfriend = 0, isfamily = 0, \nid = 51289772120, owner = 181770826@N04, secret = 259a9155dc, server = 65535, farm = 66, title = 2021-07-03_SAC_FloatFly_046, ispublic = 1, isfriend = 0, isfamily = 0, \nid = 51289772120, owner = 181770826@N04, secret = 259a9155dc, server = 65535, farm = 66, title = 2021-07-03_SAC_FloatFly_046, ispublic = 1, isfriend = 0, isfamily = 0, \nid = 51289772120, owner = 181770826@N04, secret = 259a9155dc, server = 65535, farm = 66, title = 2021-07-03_SAC_FloatFly_046, ispublic = 1, isfriend = 0, isfamily = 0, \nid = 51289772120, owner = 181770826@N04, secret = 259a9155dc, server = 65535, farm = 66, title = 2021-07-03_SAC_FloatFly_046, ispublic = 1, isfriend = 0, isfamily = 0, \nid = 51289772120, owner = 181770826@N04, secret = 259a9155dc, server = 65535, farm = 66, title = 2021-07-03_SAC_FloatFly_046, ispublic = 1, isfriend = 0, isfamily = 0, \nid = 51289772120, owner = 181770826@N04, secret = 259a9155dc, server = 65535, farm = 66, title = 2021-07-03_SAC_FloatFly_046, ispublic = 1, isfriend = 0, isfamily = 0, \nid = 51289772120, owner = 181770826@N04, secret = 259a9155dc, server = 65535, farm = 66, title = 2021-07-03_SAC_FloatFly_046, ispublic = 1, isfriend = 0, isfamily = 0, \nid = 51289772120, owner = 181770826@N04, secret = 259a9155dc, server = 65535, farm = 66, title = 2021-07-03_SAC_FloatFly_046, ispublic = 1, isfriend = 0, isfamily = 0, \nid = 51289772120, owner = 181770826@N04, secret = 259a9155dc, server = 65535, farm = 66, title = 2021-07-03_SAC_FloatFly_046, ispublic = 1, isfriend = 0, isfamily = 0, \nid = 51289772120, owner = 181770826@N04, secret = 259a9155dc, server = 65535, farm = 66, title = 2021-07-03_SAC_FloatFly_046, ispublic = 1, isfriend = 0, isfamily = 0, \nid = 51289772120, owner = 181770826@N04, secret = 259a9155dc, server = 65535, farm = 66, title = 2021-07-03_SAC_FloatFly_046, ispublic = 1, isfriend = 0, isfamily = 0, \nid = 51289772120, owner = 181770826@N04, secret = 259a9155dc, server = 65535, farm = 66, title = 2021-07-03_SAC_FloatFly_046, ispublic = 1, isfriend = 0, isfamily = 0, \nid = 51289772120, owner = 181770826@N04, secret = 259a9155dc, server = 65535, farm = 66, title = 2021-07-03_SAC_FloatFly_046, ispublic = 1, isfriend = 0, isfamily = 0, \nid = 51289772120, owner = 181770826@N04, secret = 259a9155dc, server = 65535, farm = 66, title = 2021-07-03_SAC_FloatFly_046, ispublic = 1, isfriend = 0, isfamily = 0, \nid = 51289772120, owner = 181770826@N04, secret = 259a9155dc, server = 65535, farm = 66, title = 2021-07-03_SAC_FloatFly_046, ispublic = 1, isfriend = 0, isfamily = 0, \nid = 51289772120, owner = 181770826@N04, secret = 259a9155dc, server = 65535, farm = 66, title = 2021-07-03_SAC_FloatFly_046, ispublic = 1, isfriend = 0, isfamily = 0, \nid = 51289772120, owner = 181770826@N04, secret = 259a9155dc, server = 65535, farm = 66, title = 2021-07-03_SAC_FloatFly_046, ispublic = 1, isfriend = 0, isfamily = 0, \nid = 51289772120, owner = 181770826@N04, secret = 259a9155dc, server = 65535, farm = 66, title = 2021-07-03_SAC_FloatFly_046, ispublic = 1, isfriend = 0, isfamily = 0, \nid = 51289772120, owner = 181770826@N04, secret = 259a9155dc, server = 65535, farm = 66, title = 2021-07-03_SAC_FloatFly_046, ispublic = 1, isfriend = 0, isfamily = 0, \nid = 51289772120, owner = 181770826@N04, secret = 259a9155dc, server = 65535, farm = 66, title = 2021-07-03_SAC_FloatFly_046, ispublic = 1, isfriend = 0, isfamily = 0, \nid = 51289772120, owner = 181770826@N04, secret = 259a9155dc, server = 65535, farm = 66, title = 2021-07-03_SAC_FloatFly_046, ispublic = 1, isfriend = 0, isfamily = 0, \nid = 51289772120, owner = 181770826@N04, secret = 259a9155dc, server = 65535, farm = 66, title = 2021-07-03_SAC_FloatFly_046, ispublic = 1, isfriend = 0, isfamily = 0, \nid = 51289772120, owner = 181770826@N04, secret = 259a9155dc, server = 65535, farm = 66, title = 2021-07-03_SAC_FloatFly_046, ispublic = 1, isfriend = 0, isfamily = 0, \nid = 51289772120, owner = 181770826@N04, secret = 259a9155dc, server = 65535, farm = 66, title = 2021-07-03_SAC_FloatFly_046, ispublic = 1, isfriend = 0, isfamily = 0, \nid = 51289772120, owner = 181770826@N04, secret = 259a9155dc, server = 65535, farm = 66, title = 2021-07-03_SAC_FloatFly_046, ispublic = 1, isfriend = 0, isfamily = 0, \nid = 51289772120, owner = 181770826@N04, secret = 259a9155dc, server = 65535, farm = 66, title = 2021-07-03_SAC_FloatFly_046, ispublic = 1, isfriend = 0, isfamily = 0, \nid = 51289772120, owner = 181770826@N04, secret = 259a9155dc, server = 65535, farm = 66, title = 2021-07-03_SAC_FloatFly_046, ispublic = 1, isfriend = 0, isfamily = 0, \nid = 51289772120, owner = 181770826@N04, secret = 259a9155dc, server = 65535, farm = 66, title = 2021-07-03_SAC_FloatFly_046, ispublic = 1, isfriend = 0, isfamily = 0, \nid = 51289772120, owner = 181770826@N04, secret = 259a9155dc, server = 65535, farm = 66, title = 2021-07-03_SAC_FloatFly_046, ispublic = 1, isfriend = 0, isfamily = 0, \nid = 51289772120, owner = 181770826@N04, secret = 259a9155dc, server = 65535, farm = 66, title = 2021-07-03_SAC_FloatFly_046, ispublic = 1, isfriend = 0, isfamily = 0, \nid = 51289772120, owner = 181770826@N04, secret = 259a9155dc, server = 65535, farm = 66, title = 2021-07-03_SAC_FloatFly_046, ispublic = 1, isfriend = 0, isfamily = 0, \nid = 51289772120, owner = 181770826@N04, secret = 259a9155dc, server = 65535, farm = 66, title = 2021-07-03_SAC_FloatFly_046, ispublic = 1, isfriend = 0, isfamily = 0, \nid = 51289772120, owner = 181770826@N04, secret = 259a9155dc, server = 65535, farm = 66, title = 2021-07-03_SAC_FloatFly_046, ispublic = 1, isfriend = 0, isfamily = 0, \nid = 51289772120, owner = 181770826@N04, secret = 259a9155dc, server = 65535, farm = 66, title = 2021-07-03_SAC_FloatFly_046, ispublic = 1, isfriend = 0, isfamily = 0, \nid = 51289772120, owner = 181770826@N04, secret = 259a9155dc, server = 65535, farm = 66, title = 2021-07-03_SAC_FloatFly_046, ispublic = 1, isfriend = 0, isfamily = 0, \nid = 51289772120, owner = 181770826@N04, secret = 259a9155dc, server = 65535, farm = 66, title = 2021-07-03_SAC_FloatFly_046, ispublic = 1, isfriend = 0, isfamily = 0, \nid = 51289772120, owner = 181770826@N04, secret = 259a9155dc, server = 65535, farm = 66, title = 2021-07-03_SAC_FloatFly_046, ispublic = 1, isfriend = 0, isfamily = 0, \nid = 51289772120, owner = 181770826@N04, secret = 259a9155dc, server = 65535, farm = 66, title = 2021-07-03_SAC_FloatFly_046, ispublic = 1, isfriend = 0, isfamily = 0, \nid = 51289772120, owner = 181770826@N04, secret = 259a9155dc, server = 65535, farm = 66, title = 2021-07-03_SAC_FloatFly_046, ispublic = 1, isfriend = 0, isfamily = 0, \nid = 51289772120, owner = 181770826@N04, secret = 259a9155dc, server = 65535, farm = 66, title = 2021-07-03_SAC_FloatFly_046, ispublic = 1, isfriend = 0, isfamily = 0, \nid = 51289772120, owner = 181770826@N04, secret = 259a9155dc, server = 65535, farm = 66, title = 2021-07-03_SAC_FloatFly_046, ispublic = 1, isfriend = 0, isfamily = 0, \nid = 51289772120, owner = 181770826@N04, secret = 259a9155dc, server = 65535, farm = 66, title = 2021-07-03_SAC_FloatFly_046, ispublic = 1, isfriend = 0, isfamily = 0, \nid = 51289772120, owner = 181770826@N04, secret = 259a9155dc, server = 65535, farm = 66, title = 2021-07-03_SAC_FloatFly_046, ispublic = 1, isfriend = 0, isfamily = 0, \nid = 51289772120, owner = 181770826@N04, secret = 259a9155dc, server = 65535, farm = 66, title = 2021-07-03_SAC_FloatFly_046, ispublic = 1, isfriend = 0, isfamily = 0, \nid = 51289772120, owner = 181770826@N04, secret = 259a9155dc, server = 65535, farm = 66, title = 2021-07-03_SAC_FloatFly_046, ispublic = 1, isfriend = 0, isfamily = 0, \nid = 51289772120, owner = 181770826@N04, secret = 259a9155dc, server = 65535, farm = 66, title = 2021-07-03_SAC_FloatFly_046, ispublic = 1, isfriend = 0, isfamily = 0, \nid = 51289772120, owner = 181770826@N04, secret = 259a9155dc, server = 65535, farm = 66, title = 2021-07-03_SAC_FloatFly_046, ispublic = 1, isfriend = 0, isfamily = 0, \nid = 51289772120, owner = 181770826@N04, secret = 259a9155dc, server = 65535, farm = 66, title = 2021-07-03_SAC_FloatFly_046, ispublic = 1, isfriend = 0, isfamily = 0, \nid = 51289772120, owner = 181770826@N04, secret = 259a9155dc, server = 65535, farm = 66, title = 2021-07-03_SAC_FloatFly_046, ispublic = 1, isfriend = 0, isfamily = 0, \nid = 51289772120, owner = 181770826@N04, secret = 259a9155dc, server = 65535, farm = 66, title = 2021-07-03_SAC_FloatFly_046, ispublic = 1, isfriend = 0, isfamily = 0, \nid = 51289772120, owner = 181770826@N04, secret = 259a9155dc, server = 65535, farm = 66, title = 2021-07-03_SAC_FloatFly_046, ispublic = 1, isfriend = 0, isfamily = 0, \nid = 51289772120, owner = 181770826@N04, secret = 259a9155dc, server = 65535, farm = 66, title = 2021-07-03_SAC_FloatFly_046, ispublic = 1, isfriend = 0, isfamily = 0, \nid = 51289772120, owner = 181770826@N04, secret = 259a9155dc, server = 65535, farm = 66, title = 2021-07-03_SAC_FloatFly_046, ispublic = 1, isfriend = 0, isfamily = 0, \nid = 51289772120, owner = 181770826@N04, secret = 259a9155dc, server = 65535, farm = 66, title = 2021-07-03_SAC_FloatFly_046, ispublic = 1, isfriend = 0, isfamily = 0, \nid = 51289772120, owner = 181770826@N04, secret = 259a9155dc, server = 65535, farm = 66, title = 2021-07-03_SAC_FloatFly_046, ispublic = 1, isfriend = 0, isfamily = 0, \nid = 51289772120, owner = 181770826@N04, secret = 259a9155dc, server = 65535, farm = 66, title = 2021-07-03_SAC_FloatFly_046, ispublic = 1, isfriend = 0, isfamily = 0, \nid = 51289772120, owner = 181770826@N04, secret = 259a9155dc, server = 65535, farm = 66, title = 2021-07-03_SAC_FloatFly_046, ispublic = 1, isfriend = 0, isfamily = 0, \nid = 51289772120, owner = 181770826@N04, secret = 259a9155dc, server = 65535, farm = 66, title = 2021-07-03_SAC_FloatFly_046, ispublic = 1, isfriend = 0, isfamily = 0, \nid = 51289772120, owner = 181770826@N04, secret = 259a9155dc, server = 65535, farm = 66, title = 2021-07-03_SAC_FloatFly_046, ispublic = 1, isfriend = 0, isfamily = 0, \nid = 51289772120, owner = 181770826@N04, secret = 259a9155dc, server = 65535, farm = 66, title = 2021-07-03_SAC_FloatFly_046, ispublic = 1, isfriend = 0, isfamily = 0, \nid = 51289772120, owner = 181770826@N04, secret = 259a9155dc, server = 65535, farm = 66, title = 2021-07-03_SAC_FloatFly_046, ispublic = 1, isfriend = 0, isfamily = 0, \nid = 51289772120, owner = 181770826@N04, secret = 259a9155dc, server = 65535, farm = 66, title = 2021-07-03_SAC_FloatFly_046, ispublic = 1, isfriend = 0, isfamily = 0, \nid = 51289772120, owner = 181770826@N04, secret = 259a9155dc, server = 65535, farm = 66, title = 2021-07-03_SAC_FloatFly_046, ispublic = 1, isfriend = 0, isfamily = 0, \nid = 51289772120, owner = 181770826@N04, secret = 259a9155dc, server = 65535, farm = 66, title = 2021-07-03_SAC_FloatFly_046, ispublic = 1, isfriend = 0, isfamily = 0, \nid = 51289772120, owner = 181770826@N04, secret = 259a9155dc, server = 65535, farm = 66, title = 2021-07-03_SAC_FloatFly_046, ispublic = 1, isfriend = 0, isfamily = 0, \nid = 51289772120, owner = 181770826@N04, secret = 259a9155dc, server = 65535, farm = 66, title = 2021-07-03_SAC_FloatFly_046, ispublic = 1, isfriend = 0, isfamily = 0, \nid = 51289772120, owner = 181770826@N04, secret = 259a9155dc, server = 65535, farm = 66, title = 2021-07-03_SAC_FloatFly_046, ispublic = 1, isfriend = 0, isfamily = 0, \nid = 51289772120, owner = 181770826@N04, secret = 259a9155dc, server = 65535, farm = 66, title = 2021-07-03_SAC_FloatFly_046, ispublic = 1, isfriend = 0, isfamily = 0, \nid = 51289772120, owner = 181770826@N04, secret = 259a9155dc, server = 65535, farm = 66, title = 2021-07-03_SAC_FloatFly_046, ispublic = 1, isfriend = 0, isfamily = 0, \nid = 51289772120, owner = 181770826@N04, secret = 259a9155dc, server = 65535, farm = 66, title = 2021-07-03_SAC_FloatFly_046, ispublic = 1, isfriend = 0, isfamily = 0, \nid = 51289772120, owner = 181770826@N04, secret = 259a9155dc, server = 65535, farm = 66, title = 2021-07-03_SAC_FloatFly_046, ispublic = 1, isfriend = 0, isfamily = 0, \nid = 51289772120, owner = 181770826@N04, secret = 259a9155dc, server = 65535, farm = 66, title = 2021-07-03_SAC_FloatFly_046, ispublic = 1, isfriend = 0, isfamily = 0, \nid = 51289772120, owner = 181770826@N04, secret = 259a9155dc, server = 65535, farm = 66, title = 2021-07-03_SAC_FloatFly_046, ispublic = 1, isfriend = 0, isfamily = 0, \nid = 51289772120, owner = 181770826@N04, secret = 259a9155dc, server = 65535, farm = 66, title = 2021-07-03_SAC_FloatFly_046, ispublic = 1, isfriend = 0, isfamily = 0, \nid = 51289772120, owner = 181770826@N04, secret = 259a9155dc, server = 65535, farm = 66, title = 2021-07-03_SAC_FloatFly_046, ispublic = 1, isfriend = 0, isfamily = 0, \nid = 51289772120, owner = 181770826@N04, secret = 259a9155dc, server = 65535, farm = 66, title = 2021-07-03_SAC_FloatFly_046, ispublic = 1, isfriend = 0, isfamily = 0, \nid = 51289772120, owner = 181770826@N04, secret = 259a9155dc, server = 65535, farm = 66, title = 2021-07-03_SAC_FloatFly_046, ispublic = 1, isfriend = 0, isfamily = 0, \nid = 51289772120, owner = 181770826@N04, secret = 259a9155dc, server = 65535, farm = 66, title = 2021-07-03_SAC_FloatFly_046, ispublic = 1, isfriend = 0, isfamily = 0, \nid = 51289772120, owner = 181770826@N04, secret = 259a9155dc, server = 65535, farm = 66, title = 2021-07-03_SAC_FloatFly_046, ispublic = 1, isfriend = 0, isfamily = 0, \nid = 51289772120, owner = 181770826@N04, secret = 259a9155dc, server = 65535, farm = 66, title = 2021-07-03_SAC_FloatFly_046, ispublic = 1, isfriend = 0, isfamily = 0, \nid = 51289772120, owner = 181770826@N04, secret = 259a9155dc, server = 65535, farm = 66, title = 2021-07-03_SAC_FloatFly_046, ispublic = 1, isfriend = 0, isfamily = 0, \nid = 51289772120, owner = 181770826@N04, secret = 259a9155dc, server = 65535, farm = 66, title = 2021-07-03_SAC_FloatFly_046, ispublic = 1, isfriend = 0, isfamily = 0, \nid = 51289772120, owner = 181770826@N04, secret = 259a9155dc, server = 65535, farm = 66, title = 2021-07-03_SAC_FloatFly_046, ispublic = 1, isfriend = 0, isfamily = 0, \nid = 51289772120, owner = 181770826@N04, secret = 259a9155dc, server = 65535, farm = 66, title = 2021-07-03_SAC_FloatFly_046, ispublic = 1, isfriend = 0, isfamily = 0, \nid = 51289772120, owner = 181770826@N04, secret = 259a9155dc, server = 65535, farm = 66, title = 2021-07-03_SAC_FloatFly_046, ispublic = 1, isfriend = 0, isfamily = 0, \nid = 51289772120, owner = 181770826@N04, secret = 259a9155dc, server = 65535, farm = 66, title = 2021-07-03_SAC_FloatFly_046, ispublic = 1, isfriend = 0, isfamily = 0, \nid = 51289772120, owner = 181770826@N04, secret = 259a9155dc, server = 65535, farm = 66, title = 2021-07-03_SAC_FloatFly_046, ispublic = 1, isfriend = 0, isfamily = 0, \nid = 51289772120, owner = 181770826@N04, secret = 259a9155dc, server = 65535, farm = 66, title = 2021-07-03_SAC_FloatFly_046, ispublic = 1, isfriend = 0, isfamily = 0, \nid = 51289772120, owner = 181770826@N04, secret = 259a9155dc, server = 65535, farm = 66, title = 2021-07-03_SAC_FloatFly_046, ispublic = 1, isfriend = 0, isfamily = 0, \nid = 51289772120, owner = 181770826@N04, secret = 259a9155dc, server = 65535, farm = 66, title = 2021-07-03_SAC_FloatFly_046, ispublic = 1, isfriend = 0, isfamily = 0, \nid = 51289772120, owner = 181770826@N04, secret = 259a9155dc, server = 65535, farm = 66, title = 2021-07-03_SAC_FloatFly_046, ispublic = 1, isfriend = 0, isfamily = 0, \nid = 51289772120, owner = 181770826@N04, secret = 259a9155dc, server = 65535, farm = 66, title = 2021-07-03_SAC_FloatFly_046, ispublic = 1, isfriend = 0, isfamily = 0, \nid = 51289772120, owner = 181770826@N04, secret = 259a9155dc, server = 65535, farm = 66, title = 2021-07-03_SAC_FloatFly_046, ispublic = 1, isfriend = 0, isfamily = 0, \nid = 51289772120, owner = 181770826@N04, secret = 259a9155dc, server = 65535, farm = 66, title = 2021-07-03_SAC_FloatFly_046, ispublic = 1, isfriend = 0, isfamily = 0, \nid = 51289772120, owner = 181770826@N04, secret = 259a9155dc, server = 65535, farm = 66, title = 2021-07-03_SAC_FloatFly_046, ispublic = 1, isfriend = 0, isfamily = 0, \nid = 51289772120, owner = 181770826@N04, secret = 259a9155dc, server = 65535, farm = 66, title = 2021-07-03_SAC_FloatFly_046, ispublic = 1, isfriend = 0, isfamily = 0, \nid = 51289772120, owner = 181770826@N04, secret = 259a9155dc, server = 65535, farm = 66, title = 2021-07-03_SAC_FloatFly_046, ispublic = 1, isfriend = 0, isfamily = 0, \nid = 51289772120, owner = 181770826@N04, secret = 259a9155dc, server = 65535, farm = 66, title = 2021-07-03_SAC_FloatFly_046, ispublic = 1, isfriend = 0, isfamily = 0, \nid = 51289772120, owner = 181770826@N04, secret = 259a9155dc, server = 65535, farm = 66, title = 2021-07-03_SAC_FloatFly_046, ispublic = 1, isfriend = 0, isfamily = 0, \n"
     ]
    }
   ],
   "source": [
    "#Kurz schöner drucken\n",
    "for foto in response['photos']['photo']:\n",
    "    res=\"\"\n",
    "    for x in foto.keys():\n",
    "        res += x + \" = \" + f'{ding[x]}' + \", \"\n",
    "    print(res)\n",
    "    "
   ]
  },
  {
   "cell_type": "code",
   "execution_count": 41,
   "metadata": {},
   "outputs": [
    {
     "output_type": "stream",
     "name": "stdout",
     "text": [
      "['https://live.staticflickr.com/65535/51290334879_d25ca1655f.jpg', 'https://live.staticflickr.com/65535/51290626500_fd5f84476e.jpg', 'https://live.staticflickr.com/65535/51289788593_52c568c280.jpg', 'https://live.staticflickr.com/65535/51290626145_10d7cf0eb1.jpg', 'https://live.staticflickr.com/65535/51290315004_fd4372620d.jpg', 'https://live.staticflickr.com/65535/51288841757_dee8d78424.jpg', 'https://live.staticflickr.com/65535/51290584005_2cfd19f1f0.jpg', 'https://live.staticflickr.com/65535/51288686477_345b923343.jpg', 'https://live.staticflickr.com/65535/51289436966_2e55f64c06.jpg', 'https://live.staticflickr.com/65535/51289607658_097d18428f.jpg', 'https://live.staticflickr.com/65535/51289607538_1e9dd44d5b.jpg', 'https://live.staticflickr.com/65535/51289607478_58637d7e73.jpg', 'https://live.staticflickr.com/65535/51290446180_0542ba520e.jpg', 'https://live.staticflickr.com/65535/51288685537_ba5cbb3bf5.jpg', 'https://live.staticflickr.com/65535/51288685352_669858bbab.jpg', 'https://live.staticflickr.com/65535/51289606833_ae45ec9872.jpg', 'https://live.staticflickr.com/65535/51288685067_60f78deed7.jpg', 'https://live.staticflickr.com/65535/51289435591_296dd1bba5.jpg', 'https://live.staticflickr.com/65535/51290445250_b692068014.jpg', 'https://live.staticflickr.com/65535/51288684597_02e2a69a80.jpg', 'https://live.staticflickr.com/65535/51290153074_2c97cee92d.jpg', 'https://live.staticflickr.com/65535/51289605773_3bae7aac71.jpg', 'https://live.staticflickr.com/65535/51288684057_d484a4a028.jpg', 'https://live.staticflickr.com/65535/51289605378_ef7723371a.jpg', 'https://live.staticflickr.com/65535/51289605253_5d01a5ab39.jpg', 'https://live.staticflickr.com/65535/51289605028_5a44f1a087.jpg', 'https://live.staticflickr.com/65535/51290443655_3d9915241e.jpg', 'https://live.staticflickr.com/65535/51288683157_a07776bd22.jpg', 'https://live.staticflickr.com/65535/51288683007_9dca8d0054.jpg', 'https://live.staticflickr.com/65535/51290443185_3ec9071a14.jpg', 'https://live.staticflickr.com/65535/51289604363_5b2bb9708c.jpg', 'https://live.staticflickr.com/65535/51290442855_815aff0101.jpg', 'https://live.staticflickr.com/65535/51288682517_837607cdaf.jpg', 'https://live.staticflickr.com/65535/51289433186_9b1b95d87a.jpg', 'https://live.staticflickr.com/65535/51290404345_0d4b8d2df7.jpg', 'https://live.staticflickr.com/65535/51289523361_6edd8b27e5.jpg', 'https://live.staticflickr.com/65535/51290532030_3315841bf4.jpg', 'https://live.staticflickr.com/0/51289686448_eef5df5e7e.jpg', 'https://live.staticflickr.com/65535/51290470680_b4139bf918.jpg', 'https://live.staticflickr.com/65535/51290178189_cac972dba7.jpg', 'https://live.staticflickr.com/65535/51290469970_c95f67511e.jpg', 'https://live.staticflickr.com/65535/51289630943_4c6abfeeed.jpg', 'https://live.staticflickr.com/65535/51289630428_86bfdc2fa0.jpg', 'https://live.staticflickr.com/65535/51290468995_b54388de3d.jpg', 'https://live.staticflickr.com/65535/51289459131_bd9de3138e.jpg', 'https://live.staticflickr.com/65535/51289458666_56cb2c5f13.jpg', 'https://live.staticflickr.com/65535/51290175864_65434d9a76.jpg', 'https://live.staticflickr.com/65535/51290467550_cd1a6db0af.jpg', 'https://live.staticflickr.com/65535/51289628153_dde449dfaf.jpg', 'https://live.staticflickr.com/65535/51290466650_b5f1c89653.jpg', 'https://live.staticflickr.com/65535/51289627298_8711f63d46.jpg', 'https://live.staticflickr.com/65535/51288705432_32a4718ab2.jpg', 'https://live.staticflickr.com/65535/51290465165_b995ba9448.jpg', 'https://live.staticflickr.com/65535/51288702262_9181552b9c.jpg', 'https://live.staticflickr.com/65535/51290165364_64bde3264b.jpg', 'https://live.staticflickr.com/65535/51288684817_ecfe09215a.jpg', 'https://live.staticflickr.com/65535/51289606283_32a9f7fc3a.jpg', 'https://live.staticflickr.com/65535/51290445095_f765e1302e.jpg', 'https://live.staticflickr.com/65535/51289605933_8108ebd8ed.jpg', 'https://live.staticflickr.com/65535/51290443555_c274cd221b.jpg', 'https://live.staticflickr.com/65535/51288682632_2c28730c3e.jpg', 'https://live.staticflickr.com/65535/51290442545_21bb4d800d.jpg', 'https://live.staticflickr.com/65535/51290150379_6f666c1e46.jpg', 'https://live.staticflickr.com/65535/51289432111_024f07ec16.jpg', 'https://live.staticflickr.com/65535/51290149404_92f676e4c8.jpg', 'https://live.staticflickr.com/65535/51288680687_cafa8cdb05.jpg', 'https://live.staticflickr.com/65535/51289431106_68623d8056.jpg', 'https://live.staticflickr.com/65535/51289429246_699efcbc9e.jpg', 'https://live.staticflickr.com/65535/51289606848_6622bf631b.jpg', 'https://live.staticflickr.com/65535/51289435346_1fb1cc4ae6.jpg', 'https://live.staticflickr.com/65535/51288679452_d1dc801173.jpg', 'https://live.staticflickr.com/65535/51289584488_082619005d.jpg', 'https://live.staticflickr.com/65535/51288614827_9c29cc1d82.jpg', 'https://live.staticflickr.com/65535/51289523818_fd73fc9f8a.jpg', 'https://live.staticflickr.com/65535/51290072774_e7f573dece.jpg', 'https://live.staticflickr.com/65535/51288589852_ed9be16007.jpg', 'https://live.staticflickr.com/65535/51290057769_266128c813.jpg', 'https://live.staticflickr.com/65535/51290348895_cc218ec707.jpg', 'https://live.staticflickr.com/65535/51290314500_e88a08de61.jpg', 'https://live.staticflickr.com/65535/51290311610_fc9e24021c.jpg', 'https://live.staticflickr.com/65535/51289446308_9562e1ccbd.jpg', 'https://live.staticflickr.com/65535/51289437673_8344a5b1eb.jpg', 'https://live.staticflickr.com/65535/51289986879_b514d25a29.jpg', 'https://live.staticflickr.com/65535/51290276490_9f7ff60250.jpg', 'https://live.staticflickr.com/65535/51289421933_1af5a17d8d.jpg', 'https://live.staticflickr.com/65535/51289970259_4451314420.jpg', 'https://live.staticflickr.com/65535/51290261375_c55035ee7c.jpg', 'https://live.staticflickr.com/65535/51290267870_1cff300401.jpg', 'https://live.staticflickr.com/65535/51290266485_1f80eb33f9.jpg', 'https://live.staticflickr.com/65535/51289251896_a1127e1156.jpg', 'https://live.staticflickr.com/65535/51289968954_d8f311bff6.jpg', 'https://live.staticflickr.com/65535/51290259825_f15fe16470.jpg', 'https://live.staticflickr.com/65535/51289968444_51654f0486.jpg', 'https://live.staticflickr.com/65535/51289967704_e7abebd0ae.jpg', 'https://live.staticflickr.com/65535/51289250251_142377dc38.jpg', 'https://live.staticflickr.com/65535/51290258525_0781805260.jpg', 'https://live.staticflickr.com/65535/51288499417_83dc6f2c1e.jpg', 'https://live.staticflickr.com/65535/51289416543_fc48994fdb.jpg', 'https://live.staticflickr.com/65535/51289249671_83d85e7e4b.jpg', 'https://live.staticflickr.com/65535/51288499012_95a3e1f794.jpg']\n"
     ]
    }
   ],
   "source": [
    "#construct URL https://www.flickr.com/services/api/misc.urls.html\n",
    "#\n",
    "# Format der eindeutigen URL für eine Größe von 500 Pixeln\n",
    "#\n",
    "#https://live.staticflickr.com/{server-id}/{id}_{secret}.jpg\n",
    "\n",
    "url_start = 'https://live.staticflickr.com/'\n",
    "file_extension = '.jpg'\n",
    "\n",
    "urls = []\n",
    "for foto in response['photos']['photo']:\n",
    "    url = url_start\n",
    "    url += foto['server']\n",
    "    url += '/' \n",
    "    url += foto['id']\n",
    "    url += '_' \n",
    "    url += foto['secret']\n",
    "    url += file_extension\n",
    "    foto['url'] = url\n",
    "    urls.append(url)    \n",
    "print(urls)"
   ]
  },
  {
   "cell_type": "code",
   "execution_count": 39,
   "metadata": {},
   "outputs": [],
   "source": [
    "#Importiere Module um Bilder herunterzuladen\n",
    "import shutil\n",
    "import requests\n",
    "import os\n",
    "from pathlib import Path"
   ]
  },
  {
   "cell_type": "code",
   "execution_count": 42,
   "metadata": {},
   "outputs": [],
   "source": [
    "#Mache Pfad für \n",
    "Path(label).mkdir(parents=True, exist_ok=True)\n",
    "\n",
    "for foto in response['photos']['photo']:\n",
    "    r = requests.get(foto['url'], stream=True)\n",
    "    with open(label + '/' +  foto['id'] + file_extension, 'wb') as out_file:\n",
    "        shutil.copyfileobj(r.raw, out_file)\n",
    "    del r    "
   ]
  },
  {
   "cell_type": "code",
   "execution_count": null,
   "metadata": {},
   "outputs": [],
   "source": []
  }
 ]
}